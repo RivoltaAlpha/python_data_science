{
 "cells": [
  {
   "metadata": {},
   "cell_type": "markdown",
   "source": [
    "# This is a sample Jupyter Notebook\n",
    "\n",
    "Below is an example of a code cell. \n",
    "Put your cursor into the cell and press Shift+Enter to execute it and select the next one, or click !here goes the icon of the corresponding button in the gutter! button.\n",
    "To debug a cell, press Alt+Shift+Enter, or click !here goes the icon of the corresponding button in the gutter! button.\n",
    "\n",
    "Press Double Shift to search everywhere for classes, files, tool windows, actions, and settings.\n",
    "\n",
    "To learn more about Jupyter Notebooks in PyCharm, see [help](https://www.jetbrains.com/help/pycharm/jupyter-notebook-support.html).\n",
    "For an overview of PyCharm, go to Help -> Learn IDE features or refer to [our documentation](https://www.jetbrains.com/help/pycharm/getting-started.html)."
   ],
   "id": "8a77807f92f26ee"
  },
  {
   "metadata": {},
   "cell_type": "code",
   "execution_count": null,
   "source": "",
   "id": "fbc121e30a2defb3",
   "outputs": []
  },
  {
   "metadata": {
    "ExecuteTime": {
     "end_time": "2024-06-04T12:59:33.747122Z",
     "start_time": "2024-06-04T12:59:33.730823Z"
    }
   },
   "cell_type": "code",
   "source": [
    "data = [50,50,47,97,49,3,53,42,26,74,82,62,37,15,70,27,36,35,48,52,63,64]\n",
    "print(data)"
   ],
   "id": "f32a72eeb53cf326",
   "execution_count": 1,
   "outputs": []
  },
  {
   "metadata": {
    "ExecuteTime": {
     "end_time": "2024-06-04T13:00:09.132923Z",
     "start_time": "2024-06-04T13:00:08.666514Z"
    }
   },
   "cell_type": "code",
   "source": [
    "import numpy as np\n",
    "\n",
    "grades = np.array(data)\n",
    "print(grades)"
   ],
   "id": "80740e39d93f342",
   "execution_count": 2,
   "outputs": []
  },
  {
   "metadata": {
    "ExecuteTime": {
     "end_time": "2024-06-04T13:00:32.482668Z",
     "start_time": "2024-06-04T13:00:32.463661Z"
    }
   },
   "cell_type": "code",
   "source": [
    "print (type(data),'x 2:', data * 2)\n",
    "print('---')\n",
    "print (type(grades),'x 2:', grades * 2)"
   ],
   "id": "22175e0324632d00",
   "execution_count": 3,
   "outputs": []
  },
  {
   "metadata": {
    "ExecuteTime": {
     "end_time": "2024-06-04T13:01:16.142073Z",
     "start_time": "2024-06-04T13:01:16.121779Z"
    }
   },
   "cell_type": "code",
   "source": "grades.shape",
   "id": "b1ba08e9685d65be",
   "execution_count": 4,
   "outputs": []
  },
  {
   "metadata": {
    "ExecuteTime": {
     "end_time": "2024-06-04T13:01:43.395431Z",
     "start_time": "2024-06-04T13:01:43.371874Z"
    }
   },
   "cell_type": "code",
   "source": "student_data[0][1]grades[0]",
   "id": "f1cd5e13af29f11e",
   "execution_count": 5,
   "outputs": []
  },
  {
   "metadata": {
    "ExecuteTime": {
     "end_time": "2024-06-04T13:02:08.312086Z",
     "start_time": "2024-06-04T13:02:08.303027Z"
    }
   },
   "cell_type": "code",
   "source": "grades.mean",
   "id": "d08bdf7a0c6f4f54",
   "execution_count": 7,
   "outputs": []
  },
  {
   "metadata": {
    "ExecuteTime": {
     "end_time": "2024-06-04T13:02:25.873222Z",
     "start_time": "2024-06-04T13:02:25.862518Z"
    }
   },
   "cell_type": "code",
   "source": "grades.mean()",
   "id": "f15490c6bce059a8",
   "execution_count": 8,
   "outputs": []
  },
  {
   "metadata": {
    "ExecuteTime": {
     "end_time": "2024-06-04T13:03:19.020116Z",
     "start_time": "2024-06-04T13:03:19.004446Z"
    }
   },
   "cell_type": "code",
   "source": [
    "# Define an array of study hours\n",
    "study_hours = [10.0,11.5,9.0,16.0,9.25,1.0,11.5,9.0,8.5,14.5,15.5,\n",
    "               13.75,9.0,8.0,15.5,8.0,9.0,6.0,10.0,12.0,12.5,12.0]\n",
    "\n",
    "# Create a 2D array (an array of arrays)\n",
    "student_data = np.array([study_hours, grades])\n",
    "\n",
    "# display the array\n",
    "student_data"
   ],
   "id": "5a7d96485948975",
   "execution_count": 9,
   "outputs": []
  },
  {
   "metadata": {
    "ExecuteTime": {
     "end_time": "2024-06-04T13:04:21.690279Z",
     "start_time": "2024-06-04T13:04:21.681887Z"
    }
   },
   "cell_type": "code",
   "source": [
    "# Show shape of 2D array\n",
    "student_data.shape"
   ],
   "id": "290f52f3926b3ea5",
   "execution_count": 10,
   "outputs": []
  },
  {
   "metadata": {
    "ExecuteTime": {
     "end_time": "2024-06-04T13:05:17.805118Z",
     "start_time": "2024-06-04T13:05:17.782939Z"
    }
   },
   "cell_type": "code",
   "source": [
    "# Show the first element of the first element\n",
    "student_data[0][0]\n"
   ],
   "id": "a0e5cb818ee7122",
   "execution_count": 11,
   "outputs": []
  },
  {
   "metadata": {
    "ExecuteTime": {
     "end_time": "2024-06-04T13:07:43.654016Z",
     "start_time": "2024-06-04T13:07:43.642885Z"
    }
   },
   "cell_type": "code",
   "source": "student_data[0][1]",
   "id": "b961d0232fb23927",
   "execution_count": 12,
   "outputs": []
  },
  {
   "metadata": {
    "ExecuteTime": {
     "end_time": "2024-06-04T13:09:20.779886Z",
     "start_time": "2024-06-04T13:09:20.770569Z"
    }
   },
   "cell_type": "code",
   "source": "student_data[1][0]",
   "id": "4390eb8b4df47c48",
   "execution_count": 13,
   "outputs": []
  },
  {
   "metadata": {
    "ExecuteTime": {
     "end_time": "2024-06-04T13:11:16.626797Z",
     "start_time": "2024-06-04T13:11:16.616391Z"
    }
   },
   "cell_type": "code",
   "source": "print(student_data)",
   "id": "e92ec76a8f3ced3e",
   "execution_count": 14,
   "outputs": []
  },
  {
   "metadata": {
    "ExecuteTime": {
     "end_time": "2024-06-04T13:14:52.022540Z",
     "start_time": "2024-06-04T13:14:52.008993Z"
    }
   },
   "cell_type": "code",
   "source": [
    "# Get the mean value of each sub-array\n",
    "avg_study = student_data[0].mean()\n",
    "avg_grade = student_data[1].mean()\n",
    "\n",
    "print('Average study hours: {:.2f}\\nAverage grade: {:.2f}'.format(avg_study, avg_grade))"
   ],
   "id": "9318658c3c7992ee",
   "execution_count": 15,
   "outputs": []
  },
  {
   "metadata": {
    "ExecuteTime": {
     "end_time": "2024-06-04T13:37:17.342749Z",
     "start_time": "2024-06-04T13:37:17.270149Z"
    }
   },
   "cell_type": "code",
   "source": [
    "import pandas as pd\n",
    "\n",
    "df_students = pd.DataFrame({'Name': ['Dan', 'Joann', 'Pedro', 'Rosie', 'Ethan', 'Vicky', 'Frederic', 'Jimmie', \n",
    "                                     'Rhonda', 'Giovanni', 'Francesca', 'Rajab', 'Naiyana', 'Kian', 'Jenny',\n",
    "                                     'Jakeem','Helena','Ismat','Anila','Skye','Daniel','Aisha'],\n",
    "                            'StudyHours':student_data[0],\n",
    "                            'Grade':student_data[1]})\n",
    "\n",
    "df_students "
   ],
   "id": "956ee7ef4410a9a9",
   "execution_count": 16,
   "outputs": []
  },
  {
   "metadata": {},
   "cell_type": "code",
   "execution_count": null,
   "source": "",
   "id": "1f4132db4b6337e9",
   "outputs": []
  }
 ],
 "metadata": {
  "kernelspec": {
   "display_name": "Python 3",
   "language": "python",
   "name": "python3"
  },
  "language_info": {
   "codemirror_mode": {
    "name": "ipython",
    "version": 2
   },
   "file_extension": ".py",
   "mimetype": "text/x-python",
   "name": "python",
   "nbconvert_exporter": "python",
   "pygments_lexer": "ipython2",
   "version": "2.7.6"
  }
 },
 "nbformat": 4,
 "nbformat_minor": 5
}
