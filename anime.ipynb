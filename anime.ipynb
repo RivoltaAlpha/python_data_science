{
 "cells": [
  {
   "cell_type": "code",
   "id": "initial_id",
   "metadata": {
    "collapsed": true,
    "ExecuteTime": {
     "end_time": "2024-06-08T12:18:06.930476Z",
     "start_time": "2024-06-08T12:18:05.676678Z"
    }
   },
   "source": [
    "import numpy as np\n",
    "import pandas as pd\n",
    "# Load the dataset\n",
    "file_path = './anime.csv'\n",
    "df = pd.read_csv(file_path)\n"
   ],
   "outputs": [],
   "execution_count": 1
  },
  {
   "metadata": {
    "ExecuteTime": {
     "end_time": "2024-06-08T13:24:48.433756Z",
     "start_time": "2024-06-08T13:24:48.383225Z"
    }
   },
   "cell_type": "code",
   "source": [
    "# Display the first few rows of the dataset\n",
    "print(df.head())\n",
    "\n",
    "# Get a summary of the dataset\n",
    "# info gives data type like dataframe, number of sample or row, number of feature or column, feature types and memory usage\n",
    "print(df.info())\n",
    "\n",
    "# Get summary statistics\n",
    "print(df.describe())\n",
    "\n",
    "# print column names\n",
    "print(df.columns)\n",
    "\n",
    "# shape gives number of rows and columns in a table\n",
    "df.shape()\n",
    "\n",
    "# tail shows last 5 rows\n",
    "df.tail()"
   ],
   "id": "bebc96786e9842a5",
   "outputs": [
    {
     "name": "stdout",
     "output_type": "stream",
     "text": [
      "   Unnamed: 0                               title  \\\n",
      "0           0                   Sousou no Frieren   \n",
      "1           1    Fullmetal Alchemist: Brotherhood   \n",
      "2           2                         Steins;Gate   \n",
      "3           3                            Gintama°   \n",
      "4           4  Shingeki no Kyojin Season 3 Part 2   \n",
      "\n",
      "                                         picture_url  myanimelist_id  rank  \\\n",
      "0  https://cdn.myanimelist.net/images/anime/1015/...           52991     1   \n",
      "1  https://cdn.myanimelist.net/images/anime/1208/...            5114     2   \n",
      "2  https://cdn.myanimelist.net/images/anime/1935/...            9253     3   \n",
      "3  https://cdn.myanimelist.net/images/anime/3/720...           28977     4   \n",
      "4  https://cdn.myanimelist.net/images/anime/1517/...           38524     5   \n",
      "\n",
      "   score         type             aired_on  \n",
      "0   9.37  TV (28 eps)  Sep 2023 - Mar 2024  \n",
      "1   9.09  TV (64 eps)  Apr 2009 - Jul 2010  \n",
      "2   9.07  TV (24 eps)  Apr 2011 - Sep 2011  \n",
      "3   9.06  TV (51 eps)  Apr 2015 - Mar 2016  \n",
      "4   9.05  TV (10 eps)  Apr 2019 - Jul 2019  \n",
      "<class 'pandas.core.frame.DataFrame'>\n",
      "RangeIndex: 50 entries, 0 to 49\n",
      "Data columns (total 8 columns):\n",
      " #   Column          Non-Null Count  Dtype  \n",
      "---  ------          --------------  -----  \n",
      " 0   Unnamed: 0      50 non-null     int64  \n",
      " 1   title           50 non-null     object \n",
      " 2   picture_url     50 non-null     object \n",
      " 3   myanimelist_id  50 non-null     int64  \n",
      " 4   rank            50 non-null     int64  \n",
      " 5   score           50 non-null     float64\n",
      " 6   type            50 non-null     object \n",
      " 7   aired_on        50 non-null     object \n",
      "dtypes: float64(1), int64(3), object(4)\n",
      "memory usage: 3.3+ KB\n",
      "None\n",
      "       Unnamed: 0  myanimelist_id      rank      score\n",
      "count    50.00000       50.000000  50.00000  50.000000\n",
      "mean     24.50000    30283.340000  25.50000   8.888400\n",
      "std      14.57738    18515.116608  14.57738   0.129321\n",
      "min       0.00000        1.000000   1.00000   8.730000\n",
      "25%      12.25000    12129.500000  13.25000   8.780000\n",
      "50%      24.50000    36042.500000  25.50000   8.875000\n",
      "75%      36.75000    45138.750000  37.75000   8.980000\n",
      "max      49.00000    55690.000000  50.00000   9.370000\n",
      "Index(['Unnamed: 0', 'title', 'picture_url', 'myanimelist_id', 'rank', 'score',\n",
      "       'type', 'aired_on'],\n",
      "      dtype='object')\n"
     ]
    }
   ],
   "execution_count": 8
  },
  {
   "metadata": {
    "ExecuteTime": {
     "end_time": "2024-06-08T12:20:08.708970Z",
     "start_time": "2024-06-08T12:20:08.696692Z"
    }
   },
   "cell_type": "code",
   "source": [
    "# Check for missing values\n",
    "print(df.isnull().sum())\n",
    "\n",
    "# Example: Drop rows with missing values\n",
    "df_cleaned = df.dropna()\n",
    "\n",
    "# Example: Fill missing values with a specific value (e.g., 0 or mean)\n",
    "df_filled = df.fillna(0)  # or df.fillna(df.mean())\n"
   ],
   "id": "62a5e87b3fc4cd91",
   "outputs": [
    {
     "name": "stdout",
     "output_type": "stream",
     "text": [
      "Unnamed: 0        0\n",
      "title             0\n",
      "picture_url       0\n",
      "myanimelist_id    0\n",
      "rank              0\n",
      "score             0\n",
      "type              0\n",
      "aired_on          0\n",
      "dtype: int64\n"
     ]
    }
   ],
   "execution_count": 3
  },
  {
   "metadata": {
    "ExecuteTime": {
     "end_time": "2024-06-08T12:22:50.635566Z",
     "start_time": "2024-06-08T12:22:50.614913Z"
    }
   },
   "cell_type": "code",
   "source": [
    "# Group by a column and calculate aggregate statistics\n",
    "grouped_df = df.groupby('rank')\n",
    "grouped_df"
   ],
   "id": "366c4652b2e1f79",
   "outputs": [
    {
     "data": {
      "text/plain": [
       "<pandas.core.groupby.generic.DataFrameGroupBy object at 0x00000275C4E4A6C0>"
      ]
     },
     "execution_count": 7,
     "metadata": {},
     "output_type": "execute_result"
    }
   ],
   "execution_count": 7
  },
  {
   "metadata": {},
   "cell_type": "code",
   "outputs": [],
   "execution_count": null,
   "source": "",
   "id": "8aa040e1385b28d3"
  }
 ],
 "metadata": {
  "kernelspec": {
   "display_name": "Python 3",
   "language": "python",
   "name": "python3"
  },
  "language_info": {
   "codemirror_mode": {
    "name": "ipython",
    "version": 2
   },
   "file_extension": ".py",
   "mimetype": "text/x-python",
   "name": "python",
   "nbconvert_exporter": "python",
   "pygments_lexer": "ipython2",
   "version": "2.7.6"
  }
 },
 "nbformat": 4,
 "nbformat_minor": 5
}
