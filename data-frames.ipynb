{
 "cells": [
  {
   "cell_type": "code",
   "id": "initial_id",
   "metadata": {
    "collapsed": true,
    "ExecuteTime": {
     "end_time": "2024-06-09T21:30:16.042240Z",
     "start_time": "2024-06-09T21:30:14.600212Z"
    }
   },
   "source": [
    "# syntax:\n",
    "# DataFrame(data=None, index=None, columns=None, dtype=None, copy=False)\n",
    "\n",
    "import pandas as pd\n",
    "\n",
    "df = pd.DataFrame()\n",
    "print(df)"
   ],
   "outputs": [
    {
     "name": "stdout",
     "output_type": "stream",
     "text": [
      "Empty DataFrame\n",
      "Columns: []\n",
      "Index: []\n"
     ]
    }
   ],
   "execution_count": 1
  },
  {
   "metadata": {
    "ExecuteTime": {
     "end_time": "2024-06-09T21:30:50.489993Z",
     "start_time": "2024-06-09T21:30:50.458918Z"
    }
   },
   "cell_type": "code",
   "source": [
    "# create dataframe from lists\n",
    "import pandas as pd\n",
    "\n",
    "# List of lists\n",
    "data = [['a1', 'b1', 'c1'],\n",
    "        ['a2', 'b2', 'c2'],\n",
    "        ['a3', 'b3', 'c3']]\n",
    "\n",
    "df = pd.DataFrame(data)\n",
    "print(df)"
   ],
   "id": "28f503eca96209b3",
   "outputs": [
    {
     "name": "stdout",
     "output_type": "stream",
     "text": [
      "    0   1   2\n",
      "0  a1  b1  c1\n",
      "1  a2  b2  c2\n",
      "2  a3  b3  c3\n"
     ]
    }
   ],
   "execution_count": 2
  },
  {
   "metadata": {
    "ExecuteTime": {
     "end_time": "2024-06-09T21:31:26.327758Z",
     "start_time": "2024-06-09T21:31:26.300340Z"
    }
   },
   "cell_type": "code",
   "source": [
    "# creating dataframes from Dictionaries\n",
    "import pandas as pd\n",
    "\n",
    "# List of lists\n",
    "data = {'col1': ['a1', 'a2', 'a3'],\n",
    "        'col2': ['b1', 'b2', 'b3'],\n",
    "        'col3': ['c1', 'c2', 'c3']}\n",
    "\n",
    "df = pd.DataFrame(data)\n",
    "print(df)"
   ],
   "id": "4be30aab81b5e89",
   "outputs": [
    {
     "name": "stdout",
     "output_type": "stream",
     "text": [
      "  col1 col2 col3\n",
      "0   a1   b1   c1\n",
      "1   a2   b2   c2\n",
      "2   a3   b3   c3\n"
     ]
    }
   ],
   "execution_count": 3
  },
  {
   "metadata": {
    "ExecuteTime": {
     "end_time": "2024-06-09T21:33:03.955166Z",
     "start_time": "2024-06-09T21:33:03.943262Z"
    }
   },
   "cell_type": "code",
   "source": [
    "# empty dataframe \n",
    "import pandas as pd\n",
    "\n",
    "df = pd.DataFrame(columns=['name', 'age', 'country'])\n",
    "print(df)"
   ],
   "id": "888b18e835102008",
   "outputs": [
    {
     "name": "stdout",
     "output_type": "stream",
     "text": [
      "Empty DataFrame\n",
      "Columns: [name, age, country]\n",
      "Index: []\n"
     ]
    }
   ],
   "execution_count": 4
  },
  {
   "metadata": {
    "ExecuteTime": {
     "end_time": "2024-06-09T21:34:10.351946Z",
     "start_time": "2024-06-09T21:34:10.329045Z"
    }
   },
   "cell_type": "code",
   "source": [
    "#data frame from dictionary \n",
    "import pandas as pd\n",
    "\n",
    "mydictionary = {'names': ['Somu', 'Kiku', 'Amol', 'Lini'],\n",
    "\t'physics': [68, 74, 77, 78],\n",
    "\t'chemistry': [84, 56, 73, 69],\n",
    "\t'algebra': [78, 88, 82, 87]}\n",
    "\n",
    "# Create dataframe using dictionary\n",
    "df_marks = pd.DataFrame(mydictionary)\n",
    "\n",
    "print(df_marks)"
   ],
   "id": "c58bca41dd431276",
   "outputs": [
    {
     "name": "stdout",
     "output_type": "stream",
     "text": [
      "  names  physics  chemistry  algebra\n",
      "0  Somu       68         84       78\n",
      "1  Kiku       74         56       88\n",
      "2  Amol       77         73       82\n",
      "3  Lini       78         69       87\n"
     ]
    }
   ],
   "execution_count": 5
  },
  {
   "metadata": {
    "ExecuteTime": {
     "end_time": "2024-06-09T21:36:24.323284Z",
     "start_time": "2024-06-09T21:36:24.307274Z"
    }
   },
   "cell_type": "code",
   "source": [
    "#  dataframe from Numpy Array\n",
    "import pandas as pd\n",
    "import numpy as np\n",
    "\n",
    "array = np.array([['a1', 'b1', 'c1'],\n",
    "                  ['a2', 'b2', 'c2'],\n",
    "                  ['a3', 'b3', 'c3']])\n",
    "df = pd.DataFrame(array)\n",
    "print(df)"
   ],
   "id": "4d85dd9054e04c0d",
   "outputs": [
    {
     "name": "stdout",
     "output_type": "stream",
     "text": [
      "    0   1   2\n",
      "0  a1  b1  c1\n",
      "1  a2  b2  c2\n",
      "2  a3  b3  c3\n"
     ]
    }
   ],
   "execution_count": 6
  },
  {
   "metadata": {},
   "cell_type": "code",
   "outputs": [],
   "execution_count": null,
   "source": [
    "# DataFrame from Numpy Array, along with column names and index\n",
    "import pandas as pd\n",
    "import numpy as np\n",
    "\n",
    "array = np.array([['a1', 'b1', 'c1'],\n",
    "                  ['a2', 'b2', 'c2'],\n",
    "                  ['a3', 'b3', 'c3']])\n",
    "\n",
    "columns = ['aN', 'bN', 'cN']\n",
    "index = [1, 2, 3]\n",
    "\n",
    "df = pd.DataFrame(array, index, columns)\n",
    "print(df)"
   ],
   "id": "779cbfca1e849c77"
  },
  {
   "metadata": {
    "ExecuteTime": {
     "end_time": "2024-06-09T21:41:46.963960Z",
     "start_time": "2024-06-09T21:41:46.939282Z"
    }
   },
   "cell_type": "code",
   "source": [
    "# Inner join DataFrames along an axis\n",
    "import pandas as pd\n",
    "\n",
    "df1 = pd.DataFrame({'A': ['A0', 'A1', 'A2', 'A3'],\n",
    "                    'B': ['B0', 'B1', 'B2', 'B3'],\n",
    "                    'C': ['C0', 'C1', 'C2', 'C3'],\n",
    "                    'D': ['D0', 'D1', 'D2', 'D3']},\n",
    "                   index=[0, 1, 2, 3])\n",
    "\n",
    "df2 = pd.DataFrame({'B': ['B2', 'B3', 'B4', 'B5'],\n",
    "                    'D': ['D2', 'D3', 'D4', 'D5'],\n",
    "                    'F': ['F2', 'F3', 'F4', 'F5']},\n",
    "                   index=[2, 3, 4, 5])\n",
    "\n",
    "result = pd.concat([df1, df2], axis=1, join='inner')\n",
    "\n",
    "print(result)"
   ],
   "id": "80bfd70a9084fbac",
   "outputs": [
    {
     "name": "stdout",
     "output_type": "stream",
     "text": [
      "    A   B   C   D   B   D   F\n",
      "2  A2  B2  C2  D2  B2  D2  F2\n",
      "3  A3  B3  C3  D3  B3  D3  F3\n"
     ]
    }
   ],
   "execution_count": 7
  },
  {
   "metadata": {
    "ExecuteTime": {
     "end_time": "2024-06-09T21:45:35.831704Z",
     "start_time": "2024-06-09T21:45:35.802592Z"
    }
   },
   "cell_type": "code",
   "source": [
    "# Remove duplicate rows from DataFrame based on all columns using drop_duplicates() method\n",
    "import pandas as pd\n",
    "\n",
    "df = pd.DataFrame({\n",
    "        'A': [1, 2, 1, 1, 3],\n",
    "        'B': [5, 4, 5, 5, 5],\n",
    "        'C': [9, 10, 9, 9, 8]})\n",
    "\n",
    "df_no_duplicates = df.drop_duplicates()\n",
    "print(f\"Original DataFrame\\n{df}\\n\")\n",
    "print(f\"DataFrame with no duplicates\\n{df_no_duplicates}\")"
   ],
   "id": "eefb1a6c9a1cd789",
   "outputs": [
    {
     "name": "stdout",
     "output_type": "stream",
     "text": [
      "Original DataFrame\n",
      "   A  B   C\n",
      "0  1  5   9\n",
      "1  2  4  10\n",
      "2  1  5   9\n",
      "3  1  5   9\n",
      "4  3  5   8\n",
      "\n",
      "DataFrame with no duplicates\n",
      "   A  B   C\n",
      "0  1  5   9\n",
      "1  2  4  10\n",
      "4  3  5   8\n"
     ]
    }
   ],
   "execution_count": 12
  },
  {
   "metadata": {
    "ExecuteTime": {
     "end_time": "2024-06-09T21:46:27.818213Z",
     "start_time": "2024-06-09T21:46:27.801319Z"
    }
   },
   "cell_type": "code",
   "source": [
    "# Remove duplicate rows from DataFrame based on a single column using drop_duplicates() method\n",
    "\n",
    "import pandas as pd\n",
    "\n",
    "# Take a sample DataFrame\n",
    "df = pd.DataFrame({\n",
    "        'A': [1, 2, 1, 1, 3],\n",
    "        'B': [5, 4, 5, 5, 5],\n",
    "        'C': [9, 10, 9, 9, 8]})\n",
    "\n",
    "# Remove duplicate rows based on column 'B'\n",
    "df_no_duplicates = df.drop_duplicates(subset=['B'])\n",
    "\n",
    "print(f\"Original DataFrame\\n{df}\\n\")\n",
    "print(f\"DataFrame with no duplicates\\n{df_no_duplicates}\")"
   ],
   "id": "dd95f1bfbd43bfb1",
   "outputs": [
    {
     "name": "stdout",
     "output_type": "stream",
     "text": [
      "Original DataFrame\n",
      "   A  B   C\n",
      "0  1  5   9\n",
      "1  2  4  10\n",
      "2  1  5   9\n",
      "3  1  5   9\n",
      "4  3  5   8\n",
      "\n",
      "DataFrame with no duplicates\n",
      "   A  B   C\n",
      "0  1  5   9\n",
      "1  2  4  10\n"
     ]
    }
   ],
   "execution_count": 13
  },
  {
   "metadata": {
    "ExecuteTime": {
     "end_time": "2024-06-09T21:47:11.957421Z",
     "start_time": "2024-06-09T21:47:11.922743Z"
    }
   },
   "cell_type": "code",
   "source": [
    "# Remove duplicate rows from DataFrame based on multiple columns using drop_duplicates() method\n",
    "import pandas as pd\n",
    "\n",
    "# Take a sample DataFrame\n",
    "df = pd.DataFrame({\n",
    "        'A': [1, 2, 1, 1, 3],\n",
    "        'B': [5, 4, 5, 5, 5],\n",
    "        'C': [9, 10, 9, 9, 8]})\n",
    "\n",
    "# Remove duplicate rows based on all columns\n",
    "df_no_duplicates = df.drop_duplicates(subset=['A', 'B'])\n",
    "\n",
    "print(f\"Original DataFrame\\n{df}\\n\")\n",
    "print(f\"DataFrame with no duplicates\\n{df_no_duplicates}\")"
   ],
   "id": "8d63408a19c3b5d3",
   "outputs": [
    {
     "name": "stdout",
     "output_type": "stream",
     "text": [
      "Original DataFrame\n",
      "   A  B   C\n",
      "0  1  5   9\n",
      "1  2  4  10\n",
      "2  1  5   9\n",
      "3  1  5   9\n",
      "4  3  5   8\n",
      "\n",
      "DataFrame with no duplicates\n",
      "   A  B   C\n",
      "0  1  5   9\n",
      "1  2  4  10\n",
      "4  3  5   8\n"
     ]
    }
   ],
   "execution_count": 14
  },
  {
   "metadata": {
    "ExecuteTime": {
     "end_time": "2024-06-09T21:49:47.317332Z",
     "start_time": "2024-06-09T21:49:47.305963Z"
    }
   },
   "cell_type": "code",
   "source": [
    "# Iterate over cells in DataFrame using DataFrame.shape and For loop\n",
    "import pandas as pd\n",
    "import numpy as np\n",
    "\n",
    "df = pd.DataFrame(\n",
    "\t[[1, 2, 3],\n",
    "\t[4, 5, 6],\n",
    "\t[7, 8, 9],\n",
    "\t[10, 11, 12]])\n",
    "\n",
    "for i in range(df.shape[0]): #iterate over rows\n",
    "    for j in range(df.shape[1]): #iterate over columns\n",
    "        value = df.at[i, j] #get cell value\n",
    "        print(value, end=\"\\t\")\n",
    "    print()"
   ],
   "id": "a946ec32c7c6423",
   "outputs": [
    {
     "name": "stdout",
     "output_type": "stream",
     "text": [
      "1\t2\t3\t\n",
      "4\t5\t6\t\n",
      "7\t8\t9\t\n",
      "10\t11\t12\t\n"
     ]
    }
   ],
   "execution_count": 15
  },
  {
   "metadata": {
    "ExecuteTime": {
     "end_time": "2024-06-09T21:51:48.290690Z",
     "start_time": "2024-06-09T21:51:48.273640Z"
    }
   },
   "cell_type": "code",
   "source": [
    "# Iterate over Cells in a DataFrame using iterrows() method\n",
    "import pandas as pd\n",
    "import numpy as np\n",
    "\n",
    "df = pd.DataFrame(\n",
    "\t[[1, 2, 3],\n",
    "\t[4, 5, 6],\n",
    "\t[7, 8, 9],\n",
    "\t[10, 11, 12]])\n",
    "\n",
    "for rowIndex, row in df.iterrows(): #iterate over rows\n",
    "    for columnIndex, value in row.items():\n",
    "        print(value, end=\"\\t\")\n",
    "    print()\n",
    "# Convert DataFrame to numpy array\n",
    "arr = df.to_numpy()\n",
    "print('\\nNumpy Array\\n----------\\n', arr)  "
   ],
   "id": "77341c6c0c3400cd",
   "outputs": [
    {
     "name": "stdout",
     "output_type": "stream",
     "text": [
      "1\t2\t3\t\n",
      "4\t5\t6\t\n",
      "7\t8\t9\t\n",
      "10\t11\t12\t\n",
      "\n",
      "Numpy Array\n",
      "----------\n",
      " [[ 1  2  3]\n",
      " [ 4  5  6]\n",
      " [ 7  8  9]\n",
      " [10 11 12]]\n"
     ]
    }
   ],
   "execution_count": 17
  },
  {
   "metadata": {},
   "cell_type": "code",
   "outputs": [],
   "execution_count": null,
   "source": "",
   "id": "5bf3d2684ff8a5a8"
  }
 ],
 "metadata": {
  "kernelspec": {
   "display_name": "Python 3",
   "language": "python",
   "name": "python3"
  },
  "language_info": {
   "codemirror_mode": {
    "name": "ipython",
    "version": 2
   },
   "file_extension": ".py",
   "mimetype": "text/x-python",
   "name": "python",
   "nbconvert_exporter": "python",
   "pygments_lexer": "ipython2",
   "version": "2.7.6"
  }
 },
 "nbformat": 4,
 "nbformat_minor": 5
}
