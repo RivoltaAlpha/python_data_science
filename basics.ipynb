{
 "cells": [
  {
   "cell_type": "code",
   "id": "initial_id",
   "metadata": {
    "collapsed": true,
    "ExecuteTime": {
     "end_time": "2024-06-08T05:25:19.725033Z",
     "start_time": "2024-06-08T05:25:18.003213Z"
    }
   },
   "source": [
    "#Python loops\n",
    "import math\n",
    "import collections\n",
    "from itertools import combinations\n",
    "\n",
    "import numpy as np\n",
    "import pandas as pd\n",
    "import matplotlib.pyplot as pp\n",
    "\n",
    "%matplotlib inline   "
   ],
   "outputs": [],
   "execution_count": 1
  },
  {
   "metadata": {
    "ExecuteTime": {
     "end_time": "2024-06-08T05:26:41.461695Z",
     "start_time": "2024-06-08T05:26:41.450Z"
    }
   },
   "cell_type": "code",
   "source": [
    "for i in range(0, 10):\n",
    "    print(i)"
   ],
   "id": "54519f8636ea0bc",
   "outputs": [
    {
     "name": "stdout",
     "output_type": "stream",
     "text": [
      "0\n",
      "1\n",
      "2\n",
      "3\n",
      "4\n",
      "5\n",
      "6\n",
      "7\n",
      "8\n",
      "9\n"
     ]
    }
   ],
   "execution_count": 2
  },
  {
   "metadata": {
    "ExecuteTime": {
     "end_time": "2024-06-08T05:26:58.678742Z",
     "start_time": "2024-06-08T05:26:58.669744Z"
    }
   },
   "cell_type": "code",
   "source": [
    "for i in range(0, 10, 2):\n",
    "    print(i)"
   ],
   "id": "a365efdb6d2f9e34",
   "outputs": [
    {
     "name": "stdout",
     "output_type": "stream",
     "text": [
      "0\n",
      "2\n",
      "4\n",
      "6\n",
      "8\n"
     ]
    }
   ],
   "execution_count": 3
  },
  {
   "metadata": {
    "ExecuteTime": {
     "end_time": "2024-06-08T05:35:41.916554Z",
     "start_time": "2024-06-08T05:35:41.902444Z"
    }
   },
   "cell_type": "code",
   "source": [
    "#loop over multiple counts\n",
    "combinations = []\n",
    "for i10 in range(0, 10, 2):\n",
    "    for i20 in range(10, 20, 2):\n",
    "        for i30 in range(20, 30, 2):\n",
    "                    if i10 + i20 + i30:\n",
    "                        combinations.append([i10, i20, i30])\n",
    "                        "
   ],
   "id": "c75013fa4e94d432",
   "outputs": [],
   "execution_count": 9
  },
  {
   "metadata": {
    "ExecuteTime": {
     "end_time": "2024-06-08T05:36:18.145919Z",
     "start_time": "2024-06-08T05:36:18.116724Z"
    }
   },
   "cell_type": "code",
   "source": "combinations",
   "id": "9d81c73046697de7",
   "outputs": [
    {
     "data": {
      "text/plain": [
       "[[0, 10, 20],\n",
       " [0, 10, 22],\n",
       " [0, 10, 24],\n",
       " [0, 10, 26],\n",
       " [0, 10, 28],\n",
       " [0, 12, 20],\n",
       " [0, 12, 22],\n",
       " [0, 12, 24],\n",
       " [0, 12, 26],\n",
       " [0, 12, 28],\n",
       " [0, 14, 20],\n",
       " [0, 14, 22],\n",
       " [0, 14, 24],\n",
       " [0, 14, 26],\n",
       " [0, 14, 28],\n",
       " [0, 16, 20],\n",
       " [0, 16, 22],\n",
       " [0, 16, 24],\n",
       " [0, 16, 26],\n",
       " [0, 16, 28],\n",
       " [0, 18, 20],\n",
       " [0, 18, 22],\n",
       " [0, 18, 24],\n",
       " [0, 18, 26],\n",
       " [0, 18, 28],\n",
       " [2, 10, 20],\n",
       " [2, 10, 22],\n",
       " [2, 10, 24],\n",
       " [2, 10, 26],\n",
       " [2, 10, 28],\n",
       " [2, 12, 20],\n",
       " [2, 12, 22],\n",
       " [2, 12, 24],\n",
       " [2, 12, 26],\n",
       " [2, 12, 28],\n",
       " [2, 14, 20],\n",
       " [2, 14, 22],\n",
       " [2, 14, 24],\n",
       " [2, 14, 26],\n",
       " [2, 14, 28],\n",
       " [2, 16, 20],\n",
       " [2, 16, 22],\n",
       " [2, 16, 24],\n",
       " [2, 16, 26],\n",
       " [2, 16, 28],\n",
       " [2, 18, 20],\n",
       " [2, 18, 22],\n",
       " [2, 18, 24],\n",
       " [2, 18, 26],\n",
       " [2, 18, 28],\n",
       " [4, 10, 20],\n",
       " [4, 10, 22],\n",
       " [4, 10, 24],\n",
       " [4, 10, 26],\n",
       " [4, 10, 28],\n",
       " [4, 12, 20],\n",
       " [4, 12, 22],\n",
       " [4, 12, 24],\n",
       " [4, 12, 26],\n",
       " [4, 12, 28],\n",
       " [4, 14, 20],\n",
       " [4, 14, 22],\n",
       " [4, 14, 24],\n",
       " [4, 14, 26],\n",
       " [4, 14, 28],\n",
       " [4, 16, 20],\n",
       " [4, 16, 22],\n",
       " [4, 16, 24],\n",
       " [4, 16, 26],\n",
       " [4, 16, 28],\n",
       " [4, 18, 20],\n",
       " [4, 18, 22],\n",
       " [4, 18, 24],\n",
       " [4, 18, 26],\n",
       " [4, 18, 28],\n",
       " [6, 10, 20],\n",
       " [6, 10, 22],\n",
       " [6, 10, 24],\n",
       " [6, 10, 26],\n",
       " [6, 10, 28],\n",
       " [6, 12, 20],\n",
       " [6, 12, 22],\n",
       " [6, 12, 24],\n",
       " [6, 12, 26],\n",
       " [6, 12, 28],\n",
       " [6, 14, 20],\n",
       " [6, 14, 22],\n",
       " [6, 14, 24],\n",
       " [6, 14, 26],\n",
       " [6, 14, 28],\n",
       " [6, 16, 20],\n",
       " [6, 16, 22],\n",
       " [6, 16, 24],\n",
       " [6, 16, 26],\n",
       " [6, 16, 28],\n",
       " [6, 18, 20],\n",
       " [6, 18, 22],\n",
       " [6, 18, 24],\n",
       " [6, 18, 26],\n",
       " [6, 18, 28],\n",
       " [8, 10, 20],\n",
       " [8, 10, 22],\n",
       " [8, 10, 24],\n",
       " [8, 10, 26],\n",
       " [8, 10, 28],\n",
       " [8, 12, 20],\n",
       " [8, 12, 22],\n",
       " [8, 12, 24],\n",
       " [8, 12, 26],\n",
       " [8, 12, 28],\n",
       " [8, 14, 20],\n",
       " [8, 14, 22],\n",
       " [8, 14, 24],\n",
       " [8, 14, 26],\n",
       " [8, 14, 28],\n",
       " [8, 16, 20],\n",
       " [8, 16, 22],\n",
       " [8, 16, 24],\n",
       " [8, 16, 26],\n",
       " [8, 16, 28],\n",
       " [8, 18, 20],\n",
       " [8, 18, 22],\n",
       " [8, 18, 24],\n",
       " [8, 18, 26],\n",
       " [8, 18, 28]]"
      ]
     },
     "execution_count": 10,
     "metadata": {},
     "output_type": "execute_result"
    }
   ],
   "execution_count": 10
  },
  {
   "metadata": {
    "ExecuteTime": {
     "end_time": "2024-06-08T05:37:04.437885Z",
     "start_time": "2024-06-08T05:37:04.427864Z"
    }
   },
   "cell_type": "code",
   "source": "len(combinations)",
   "id": "99aa703bee9a5f56",
   "outputs": [
    {
     "data": {
      "text/plain": [
       "125"
      ]
     },
     "execution_count": 11,
     "metadata": {},
     "output_type": "execute_result"
    }
   ],
   "execution_count": 11
  },
  {
   "metadata": {
    "ExecuteTime": {
     "end_time": "2024-06-08T05:44:54.026223Z",
     "start_time": "2024-06-08T05:44:54.015039Z"
    }
   },
   "cell_type": "code",
   "source": [
    "# lists,tuples and slicing\n",
    "#this is a list\n",
    "nephews = [\"Huey\", \"Dewey\", \"Louie\"]\n",
    "# len(nephews)\n",
    "# nephews[-1], nephews[-2]\n",
    "nephews.append('April Duck')\n",
    "nephews.sort()\n",
    "nephews.remove('Louie')\n",
    "print(nephews)"
   ],
   "id": "5ff6ed4319f7ce6d",
   "outputs": [
    {
     "name": "stdout",
     "output_type": "stream",
     "text": [
      "['April Duck', 'Dewey', 'Huey']\n"
     ]
    }
   ],
   "execution_count": 19
  },
  {
   "metadata": {
    "ExecuteTime": {
     "end_time": "2024-06-08T05:46:14.921696Z",
     "start_time": "2024-06-08T05:46:14.895796Z"
    }
   },
   "cell_type": "code",
   "source": [
    "# Dictionaries\n",
    "capitals = {'United States': 'Washington, DC', 'France': 'Paris', 'Italy': 'Rome', 'Germany': 'Berlin', 'United Kingdom': 'London'}\n",
    "\n",
    "capitals"
   ],
   "id": "ddf37f67565998ad",
   "outputs": [
    {
     "data": {
      "text/plain": [
       "{'United States': 'Washington, DC',\n",
       " 'France': 'Paris',\n",
       " 'Italy': 'Rome',\n",
       " 'Germany': 'Berlin',\n",
       " 'United Kingdom': 'London'}"
      ]
     },
     "execution_count": 20,
     "metadata": {},
     "output_type": "execute_result"
    }
   ],
   "execution_count": 20
  },
  {
   "metadata": {
    "ExecuteTime": {
     "end_time": "2024-06-08T05:47:37.066465Z",
     "start_time": "2024-06-08T05:47:37.056074Z"
    }
   },
   "cell_type": "code",
   "source": [
    "capitals.keys()\n",
    "# capitals.values()\n",
    "# capitals.items()"
   ],
   "id": "ea7f295c5924ab1e",
   "outputs": [
    {
     "data": {
      "text/plain": [
       "dict_keys(['United States', 'France', 'Italy', 'Germany', 'United Kingdom'])"
      ]
     },
     "execution_count": 23,
     "metadata": {},
     "output_type": "execute_result"
    }
   ],
   "execution_count": 23
  },
  {
   "metadata": {
    "ExecuteTime": {
     "end_time": "2024-06-08T05:49:06.682240Z",
     "start_time": "2024-06-08T05:49:06.668533Z"
    }
   },
   "cell_type": "code",
   "source": [
    "# comprehensions\n",
    "squares = []\n",
    "for i in range(1, 11):\n",
    "    squares.append(i**2)\n",
    "squares"
   ],
   "id": "77ce8819fec0ab92",
   "outputs": [
    {
     "data": {
      "text/plain": [
       "[1, 4, 9, 16, 25, 36, 49, 64, 81, 100]"
      ]
     },
     "execution_count": 25,
     "metadata": {},
     "output_type": "execute_result"
    }
   ],
   "execution_count": 25
  },
  {
   "metadata": {
    "ExecuteTime": {
     "end_time": "2024-06-08T05:49:40.191532Z",
     "start_time": "2024-06-08T05:49:40.179530Z"
    }
   },
   "cell_type": "code",
   "source": [
    "# list of the squares from 1^2 to 10^2, including only those divisible by 4\n",
    "squares_by_four = [i**2 for i in range(1, 11) if i**2 % 4 == 0]\n",
    "squares_by_four"
   ],
   "id": "dff155bd2ca4d999",
   "outputs": [
    {
     "data": {
      "text/plain": [
       "[4, 16, 36, 64, 100]"
      ]
     },
     "execution_count": 27,
     "metadata": {},
     "output_type": "execute_result"
    }
   ],
   "execution_count": 27
  },
  {
   "metadata": {
    "ExecuteTime": {
     "end_time": "2024-06-08T05:50:17.495135Z",
     "start_time": "2024-06-08T05:50:17.487158Z"
    }
   },
   "cell_type": "code",
   "source": [
    "counting = []\n",
    "\n",
    "for i in range(1, 11):\n",
    "    for j in range(1, i+1):\n",
    "        counting.append(j)\n",
    "        \n",
    "print(counting)"
   ],
   "id": "4aedc69c82801521",
   "outputs": [
    {
     "name": "stdout",
     "output_type": "stream",
     "text": [
      "[1, 1, 2, 1, 2, 3, 1, 2, 3, 4, 1, 2, 3, 4, 5, 1, 2, 3, 4, 5, 6, 1, 2, 3, 4, 5, 6, 7, 1, 2, 3, 4, 5, 6, 7, 8, 1, 2, 3, 4, 5, 6, 7, 8, 9, 1, 2, 3, 4, 5, 6, 7, 8, 9, 10]\n"
     ]
    }
   ],
   "execution_count": 28
  },
  {
   "metadata": {
    "ExecuteTime": {
     "end_time": "2024-06-08T05:50:40.084729Z",
     "start_time": "2024-06-08T05:50:40.073309Z"
    }
   },
   "cell_type": "code",
   "source": [
    "# nested comprehension\n",
    "counting = [j for i in range(1, 11) for j in range(1, i+1)]\n",
    "print(counting)"
   ],
   "id": "9a0580afa83ea529",
   "outputs": [
    {
     "name": "stdout",
     "output_type": "stream",
     "text": [
      "[1, 1, 2, 1, 2, 3, 1, 2, 3, 4, 1, 2, 3, 4, 5, 1, 2, 3, 4, 5, 6, 1, 2, 3, 4, 5, 6, 7, 1, 2, 3, 4, 5, 6, 7, 8, 1, 2, 3, 4, 5, 6, 7, 8, 9, 1, 2, 3, 4, 5, 6, 7, 8, 9, 10]\n"
     ]
    }
   ],
   "execution_count": 29
  },
  {
   "metadata": {
    "ExecuteTime": {
     "end_time": "2024-06-08T07:51:16.590481Z",
     "start_time": "2024-06-08T07:51:16.574580Z"
    }
   },
   "cell_type": "code",
   "source": [
    "# Squaring numbers in a range and creating a list\n",
    "squares = [x**2 for x in range(10)]\n",
    "squares"
   ],
   "id": "e4bf6eec84b619f4",
   "outputs": [
    {
     "data": {
      "text/plain": [
       "[0, 1, 4, 9, 16, 25, 36, 49, 64, 81]"
      ]
     },
     "execution_count": 35,
     "metadata": {},
     "output_type": "execute_result"
    }
   ],
   "execution_count": 35
  },
  {
   "metadata": {
    "ExecuteTime": {
     "end_time": "2024-06-08T07:51:45.972986Z",
     "start_time": "2024-06-08T07:51:45.954549Z"
    }
   },
   "cell_type": "code",
   "source": [
    "# Creating a dictionary with number-square pairs\n",
    "squares_dict = {x: x**2 for x in range(5)}\n",
    "squares_dict"
   ],
   "id": "831f361e6b13b6b3",
   "outputs": [
    {
     "data": {
      "text/plain": [
       "{0: 0, 1: 1, 2: 4, 3: 9, 4: 16}"
      ]
     },
     "execution_count": 36,
     "metadata": {},
     "output_type": "execute_result"
    }
   ],
   "execution_count": 36
  },
  {
   "metadata": {},
   "cell_type": "code",
   "outputs": [],
   "execution_count": null,
   "source": "",
   "id": "7df663d9f095fa9b"
  }
 ],
 "metadata": {
  "kernelspec": {
   "display_name": "Python 3",
   "language": "python",
   "name": "python3"
  },
  "language_info": {
   "codemirror_mode": {
    "name": "ipython",
    "version": 2
   },
   "file_extension": ".py",
   "mimetype": "text/x-python",
   "name": "python",
   "nbconvert_exporter": "python",
   "pygments_lexer": "ipython2",
   "version": "2.7.6"
  }
 },
 "nbformat": 4,
 "nbformat_minor": 5
}
