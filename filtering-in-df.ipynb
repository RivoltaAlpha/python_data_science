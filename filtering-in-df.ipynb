{
 "cells": [
  {
   "metadata": {
    "ExecuteTime": {
     "end_time": "2024-06-09T18:27:03.030498Z",
     "start_time": "2024-06-09T18:27:03.007069Z"
    }
   },
   "cell_type": "code",
   "source": [
    "import numpy as np\n",
    "data = [50,50,47,97,49,3,53,42,26,74,82,62,37,15,70,27,36,35,48,52,63,64]\n",
    "\n",
    "grades = np.array(data)\n",
    "print(grades)\n",
    "\n",
    "# Define an array of study hours\n",
    "study_hours = [10.0,11.5,9.0,16.0,9.25,1.0,11.5,9.0,8.5,14.5,15.5,\n",
    "               13.75,9.0,8.0,15.5,8.0,9.0,6.0,10.0,12.0,12.5,12.0]\n",
    "\n",
    "# Create a 2D array (an array of arrays)\n",
    "student_data = np.array([study_hours, grades])\n",
    "student_data"
   ],
   "id": "56f28bad54a4a11",
   "execution_count": 5,
   "outputs": []
  },
  {
   "metadata": {
    "ExecuteTime": {
     "end_time": "2024-06-09T18:27:53.047216Z",
     "start_time": "2024-06-09T18:27:53.006664Z"
    }
   },
   "cell_type": "code",
   "source": [
    "import pandas as pd\n",
    "\n",
    "df_students = pd.DataFrame({'Name': ['Dan', 'Joann', 'Pedro', 'Rosie', 'Ethan', 'Vicky', 'Frederic', 'Jimmie', \n",
    "                                     'Rhonda', 'Giovanni', 'Francesca', 'Rajab', 'Naiyana', 'Kian', 'Jenny',\n",
    "                                     'Jakeem','Helena','Ismat','Anila','Skye','Daniel','Aisha'],\n",
    "                            'StudyHours':student_data[0],\n",
    "                            'Grade':student_data[1]})\n",
    "\n",
    "df_students "
   ],
   "id": "c04304d97802e769",
   "execution_count": 6,
   "outputs": []
  },
  {
   "metadata": {
    "ExecuteTime": {
     "end_time": "2024-06-09T18:30:02.201236Z",
     "start_time": "2024-06-09T18:30:02.188248Z"
    }
   },
   "cell_type": "code",
   "source": [
    "# Get the data for index value 5\n",
    "df_students.loc[5]"
   ],
   "id": "cfa2eb7ed0825c63",
   "execution_count": 9,
   "outputs": []
  },
  {
   "metadata": {
    "ExecuteTime": {
     "end_time": "2024-06-09T20:04:09.462887Z",
     "start_time": "2024-06-09T20:04:09.430513Z"
    }
   },
   "cell_type": "code",
   "source": [
    "# Get the rows with index values from 0 to 5\n",
    "# here you find rows based on the index\n",
    "df_students.loc[0:20]"
   ],
   "id": "fd29200521a97d47",
   "execution_count": 17,
   "outputs": []
  },
  {
   "metadata": {
    "ExecuteTime": {
     "end_time": "2024-06-09T18:31:50.920814Z",
     "start_time": "2024-06-09T18:31:50.903120Z"
    }
   },
   "cell_type": "code",
   "source": [
    "# Get the rows with index values from 0 to 5\n",
    "# gets rows 0-4\n",
    "df_students.iloc[0:5]"
   ],
   "id": "ba39628a59b8cd46",
   "execution_count": 11,
   "outputs": []
  },
  {
   "metadata": {
    "ExecuteTime": {
     "end_time": "2024-06-09T18:32:39.087253Z",
     "start_time": "2024-06-09T18:32:39.072534Z"
    }
   },
   "cell_type": "code",
   "source": "df_students.iloc[0,[1,2]]",
   "id": "2fb08e598e7c6253",
   "execution_count": 12,
   "outputs": []
  },
  {
   "metadata": {
    "ExecuteTime": {
     "end_time": "2024-06-09T18:33:44.569268Z",
     "start_time": "2024-06-09T18:33:44.550907Z"
    }
   },
   "cell_type": "code",
   "source": [
    "# df_students[df_students['Name']=='Aisha']\n",
    "df_students.loc[df_students['Name']=='Aisha']\n",
    "# df_students.query('Name==\"Aisha\"')\n",
    "# df_students[df_students.Name == 'Aisha']"
   ],
   "id": "9a7b88621c53ff81",
   "execution_count": 14,
   "outputs": []
  },
  {
   "metadata": {},
   "cell_type": "code",
   "execution_count": null,
   "source": "",
   "id": "9817600022b57b27",
   "outputs": []
  }
 ],
 "metadata": {
  "kernelspec": {
   "display_name": "Python 3",
   "language": "python",
   "name": "python3"
  },
  "language_info": {
   "codemirror_mode": {
    "name": "ipython",
    "version": 2
   },
   "file_extension": ".py",
   "mimetype": "text/x-python",
   "name": "python",
   "nbconvert_exporter": "python",
   "pygments_lexer": "ipython2",
   "version": "2.7.6"
  }
 },
 "nbformat": 4,
 "nbformat_minor": 5
}
